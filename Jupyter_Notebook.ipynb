{
 "cells": [
  {
   "cell_type": "markdown",
   "metadata": {},
   "source": [
    "<center>\n",
    "    <img src=\"https://cf-courses-data.s3.us.cloud-object-storage.appdomain.cloud/IBMDeveloperSkillsNetwork-DS0105EN-SkillsNetwork/labs/Module2/images/SN_web_lightmode.png\" width=\"300\" alt=\"cognitiveclass.ai logo\">\n",
    "</center>\n"
   ]
  },
  {
   "cell_type": "markdown",
   "metadata": {},
   "source": [
    "#### Add your code below following the instructions given in the course\n"
   ]
  },
  {
   "cell_type": "markdown",
   "metadata": {},
   "source": [
    "## Graded Assignment for \"Tools for Data Science\" \n"
   ]
  },
  {
   "cell_type": "markdown",
   "metadata": {},
   "source": [
    "## Introduction\n",
    "My Name is **`Abdullah`**, I am from Pakistan. Currently I am a student of Computer Science at COMSATS University Islamabad Lahore Campus."
   ]
  },
  {
   "cell_type": "markdown",
   "metadata": {},
   "source": [
    "\n",
    "## Data Science Languages\n",
    "\n",
    "Here are some popular languages used in data science:\n",
    "\n",
    "- Python\n",
    "- R\n",
    "- SQL\n",
    "- MATLAB\n",
    "- Java\n",
    "- Scala\n",
    "- Julia\n",
    "\n",
    "Each language has its own strengths and weaknesses, and choosing the right one depends on the specific task at hand.\n"
   ]
  },
  {
   "cell_type": "markdown",
   "metadata": {},
   "source": [
    "## Data Science Libraries\n",
    "\n",
    "Here are some popular libraries used in data science:\n",
    "\n",
    "- NumPy\n",
    "- Pandas\n",
    "- Matplotlib\n",
    "- Seaborn\n",
    "- Scikit-learn\n",
    "- TensorFlow\n",
    "- Keras\n",
    "- PyTorch\n",
    "\n",
    "Each library has its own set of functions and tools for data manipulation, analysis, and visualization, and choosing the right one depends on the specific task at hand.\n",
    "\"Python\" Data Science Libraries \n",
    "    * Tensorflow  \n",
    "    * Scipi \n",
    "    * Numpy\n",
    "    * Pandas\n",
    "    * Matplotlib  \n",
    "    * Keras\n",
    "\n",
    "    \n",
    "    "
   ]
  },
  {
   "cell_type": "markdown",
   "metadata": {},
   "source": [
    "## Table of Data Science Tools\n",
    "\n",
    "| Tool                | Description                                                                                                             |\n",
    "|---------------------|-------------------------------------------------------------------------------------------------------------------------|\n",
    "| Python              | A popular programming language for data science that is widely used for data analysis, visualization, and machine learning |\n",
    "| R                   | A programming language and software environment for statistical computing and graphics                                   |\n",
    "| Jupyter Notebook    | An open-source web application that allows you to create and share documents that contain live code, equations, and visualizations |\n",
    "| Pandas              | A Python library used for data manipulation and analysis                                                                 |\n",
    "| NumPy               | A Python library used for scientific computing and numerical analysis                                                  |\n",
    "| Scikit-learn        | A Python library used for machine learning and data mining                                                               |\n",
    "| TensorFlow          | An open-source software library for dataflow and differentiable programming across a range of tasks                       |\n",
    "| Keras               | An open-source software library for building and training deep learning models                                           |\n",
    "| PyTorch             | An open-source machine learning library based on the Torch library                                                       |\n",
    "| SQL                 | A programming language used for managing and querying relational databases                                               |\n",
    "| Apache Spark        | An open-source distributed computing system used for big data processing                                                 |\n",
    "| Tableau             | A data visualization tool used for creating interactive dashboards and visualizations                                    |\n",
    "| Power BI            | A business analytics service provided by Microsoft for creating interactive visualizations and business intelligence reports |\n",
    "| Excel               | A spreadsheet program used for data analysis and visualization                                                           |\n"
   ]
  },
  {
   "cell_type": "markdown",
   "metadata": {},
   "source": [
    "## Introducing Arithmetic Expression\n",
    "Arithmetic expressions are mathematical expressions that involve arithmetic operations such as addition, subtraction, multiplication, and division. These expressions are commonly used in programming and data analysis to perform calculations and manipulate data. \n",
    "\n",
    "Here are some examples of arithmetic expressions:\n",
    "\n",
    "- `2 + 3` evaluates to `5` (addition)\n",
    "- `6 - 4` evaluates to `2` (subtraction)\n",
    "- `4 * 5` evaluates to `20` (multiplication)\n",
    "- `10 / 2` evaluates to `5` (division)\n",
    "- `(2 + 3) * 4` evaluates to `20` (parentheses for grouping)\n",
    "- `9 / (3 + 2)` evaluates to `1.8` (order of operations)\n",
    "\n",
    "By combining different arithmetic operations and values, we can create more complex expressions that perform more intricate calculations. In the context of programming and data analysis, arithmetic expressions can be used to calculate statistics, manipulate data, and create visualizations.\n"
   ]
  },
  {
   "cell_type": "markdown",
   "metadata": {},
   "source": [
    "## Multiply and Add Cell Below"
   ]
  },
  {
   "cell_type": "code",
   "execution_count": 1,
   "metadata": {},
   "outputs": [
    {
     "name": "stdout",
     "output_type": "stream",
     "text": [
      "The result of multiplying 5 and 7 is 35\n",
      "The result of adding 5 and 7 is 12\n"
     ]
    }
   ],
   "source": [
    "x = 5\n",
    "y = 7\n",
    "\n",
    "# multiply x and y\n",
    "result_multiply = x * y\n",
    "print(\"The result of multiplying {} and {} is {}\".format(x, y, result_multiply))\n",
    "\n",
    "# add x and y\n",
    "result_add = x + y\n",
    "print(\"The result of adding {} and {} is {}\".format(x, y, result_add))\n"
   ]
  },
  {
   "cell_type": "markdown",
   "metadata": {},
   "source": [
    "## Convert minutes to hours"
   ]
  },
  {
   "cell_type": "code",
   "execution_count": 2,
   "metadata": {},
   "outputs": [
    {
     "name": "stdout",
     "output_type": "stream",
     "text": [
      "150 minutes is equal to 2.5 hours\n"
     ]
    }
   ],
   "source": [
    "minutes = 150\n",
    "\n",
    "# convert minutes to hours\n",
    "hours = minutes / 60\n",
    "\n",
    "print(\"{} minutes is equal to {} hours\".format(minutes, hours))\n"
   ]
  },
  {
   "cell_type": "markdown",
   "metadata": {},
   "source": [
    "## Objectives\n",
    "\n",
    "The objectives of this exercise are to:\n",
    "\n",
    "- Introduce the concept of arithmetic expressions and provide examples of how they can be used in programming and data analysis.\n",
    "- Demonstrate how to perform simple arithmetic operations in Python.\n",
    "- Show how to convert units of time from minutes to hours using Python code. \n",
    "\n",
    "By the end of this exercise, you should have a better understanding of how arithmetic expressions work and how to use Python to perform basic calculations and unit conversions.\n"
   ]
  },
  {
   "cell_type": "markdown",
   "metadata": {},
   "source": [
    "## Author\n",
    "\n",
    "This notebook was created by **Abdullah**.\n"
   ]
  },
  {
   "cell_type": "code",
   "execution_count": null,
   "metadata": {},
   "outputs": [],
   "source": []
  }
 ],
 "metadata": {
  "kernelspec": {
   "display_name": "Python",
   "language": "python",
   "name": "conda-env-python-py"
  },
  "language_info": {
   "codemirror_mode": {
    "name": "ipython",
    "version": 3
   },
   "file_extension": ".py",
   "mimetype": "text/x-python",
   "name": "python",
   "nbconvert_exporter": "python",
   "pygments_lexer": "ipython3",
   "version": "3.7.12"
  }
 },
 "nbformat": 4,
 "nbformat_minor": 4
}
